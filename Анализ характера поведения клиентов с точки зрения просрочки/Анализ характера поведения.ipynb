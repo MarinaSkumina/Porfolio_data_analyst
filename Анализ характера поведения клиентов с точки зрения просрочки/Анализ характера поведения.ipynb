{
 "cells": [
  {
   "cell_type": "markdown",
   "metadata": {},
   "source": [
    "## Задача"
   ]
  },
  {
   "cell_type": "markdown",
   "metadata": {},
   "source": [
    "#### В архиве во вложении данные по выдачам кредитов и платежам: плановым и фактическим. Данные актуальны на 08.12.2022. Проанализируйте характер поведения клиентов с точки зрения просрочки: какая динамика просрочки, наблюдается ли рост или снижение?"
   ]
  },
  {
   "cell_type": "markdown",
   "metadata": {},
   "source": [
    "## Загрузка и обзор данных"
   ]
  },
  {
   "cell_type": "code",
   "execution_count": 2,
   "metadata": {},
   "outputs": [],
   "source": [
    "# Импорт библиотек\n",
    "import pandas as pd\n",
    "import seaborn as sns\n",
    "import matplotlib.pyplot as plt\n",
    "import numpy as np"
   ]
  },
  {
   "cell_type": "code",
   "execution_count": 3,
   "metadata": {},
   "outputs": [
    {
     "name": "stdout",
     "output_type": "stream",
     "text": [
      "<class 'pandas.core.frame.DataFrame'>\n",
      "RangeIndex: 55748 entries, 0 to 55747\n",
      "Data columns (total 5 columns):\n",
      " #   Column      Non-Null Count  Dtype  \n",
      "---  ------      --------------  -----  \n",
      " 0   order_id    55748 non-null  int64  \n",
      " 1   created_at  55748 non-null  object \n",
      " 2   put_at      55748 non-null  object \n",
      " 3   closed_at   46472 non-null  object \n",
      " 4   issued_sum  55748 non-null  float64\n",
      "dtypes: float64(1), int64(1), object(3)\n",
      "memory usage: 2.1+ MB\n"
     ]
    }
   ],
   "source": [
    "# Импорт таблицы orders и создание датафрейма\n",
    "df_orders = pd.read_csv('./orders.csv')\n",
    "df_orders.info()"
   ]
  },
  {
   "cell_type": "code",
   "execution_count": 4,
   "metadata": {},
   "outputs": [
    {
     "data": {
      "text/html": [
       "<div>\n",
       "<style scoped>\n",
       "    .dataframe tbody tr th:only-of-type {\n",
       "        vertical-align: middle;\n",
       "    }\n",
       "\n",
       "    .dataframe tbody tr th {\n",
       "        vertical-align: top;\n",
       "    }\n",
       "\n",
       "    .dataframe thead th {\n",
       "        text-align: right;\n",
       "    }\n",
       "</style>\n",
       "<table border=\"1\" class=\"dataframe\">\n",
       "  <thead>\n",
       "    <tr style=\"text-align: right;\">\n",
       "      <th></th>\n",
       "      <th>order_id</th>\n",
       "      <th>created_at</th>\n",
       "      <th>put_at</th>\n",
       "      <th>closed_at</th>\n",
       "      <th>issued_sum</th>\n",
       "    </tr>\n",
       "  </thead>\n",
       "  <tbody>\n",
       "    <tr>\n",
       "      <th>0</th>\n",
       "      <td>400001732</td>\n",
       "      <td>2022-06-02 00:00:23.997</td>\n",
       "      <td>2022-06-02 20:18:00.180</td>\n",
       "      <td>2022-10-17 11:52:22.190</td>\n",
       "      <td>13600.0</td>\n",
       "    </tr>\n",
       "    <tr>\n",
       "      <th>1</th>\n",
       "      <td>400005838</td>\n",
       "      <td>2022-06-02 00:10:22.997</td>\n",
       "      <td>2022-06-02 15:41:33.267</td>\n",
       "      <td>2022-06-02 17:38:43.917</td>\n",
       "      <td>20000.0</td>\n",
       "    </tr>\n",
       "    <tr>\n",
       "      <th>2</th>\n",
       "      <td>400007915</td>\n",
       "      <td>2022-06-02 00:18:04.000</td>\n",
       "      <td>2022-06-05 19:17:38.547</td>\n",
       "      <td>2022-06-21 21:55:51.877</td>\n",
       "      <td>5820.0</td>\n",
       "    </tr>\n",
       "    <tr>\n",
       "      <th>3</th>\n",
       "      <td>400008952</td>\n",
       "      <td>2022-06-02 00:22:07.000</td>\n",
       "      <td>2022-06-03 14:25:18.033</td>\n",
       "      <td>2022-07-12 10:47:46.307</td>\n",
       "      <td>9000.0</td>\n",
       "    </tr>\n",
       "    <tr>\n",
       "      <th>4</th>\n",
       "      <td>400009027</td>\n",
       "      <td>2022-06-02 00:25:39.000</td>\n",
       "      <td>2022-06-02 00:40:40.320</td>\n",
       "      <td>2022-06-22 14:15:07.423</td>\n",
       "      <td>5000.0</td>\n",
       "    </tr>\n",
       "  </tbody>\n",
       "</table>\n",
       "</div>"
      ],
      "text/plain": [
       "    order_id               created_at                   put_at  \\\n",
       "0  400001732  2022-06-02 00:00:23.997  2022-06-02 20:18:00.180   \n",
       "1  400005838  2022-06-02 00:10:22.997  2022-06-02 15:41:33.267   \n",
       "2  400007915  2022-06-02 00:18:04.000  2022-06-05 19:17:38.547   \n",
       "3  400008952  2022-06-02 00:22:07.000  2022-06-03 14:25:18.033   \n",
       "4  400009027  2022-06-02 00:25:39.000  2022-06-02 00:40:40.320   \n",
       "\n",
       "                 closed_at  issued_sum  \n",
       "0  2022-10-17 11:52:22.190     13600.0  \n",
       "1  2022-06-02 17:38:43.917     20000.0  \n",
       "2  2022-06-21 21:55:51.877      5820.0  \n",
       "3  2022-07-12 10:47:46.307      9000.0  \n",
       "4  2022-06-22 14:15:07.423      5000.0  "
      ]
     },
     "execution_count": 4,
     "metadata": {},
     "output_type": "execute_result"
    }
   ],
   "source": [
    "df_orders.head()"
   ]
  },
  {
   "cell_type": "markdown",
   "metadata": {},
   "source": [
    "### Данные таблицы orders\n",
    "* order_id - номер заявки\n",
    "* created_at - дата создания заявки\n",
    "* put_at - дата выдачи\n",
    "* closed_at - дата закрытия\n",
    "* issued_sum - сумма выдачи"
   ]
  },
  {
   "cell_type": "code",
   "execution_count": 5,
   "metadata": {},
   "outputs": [
    {
     "name": "stdout",
     "output_type": "stream",
     "text": [
      "<class 'pandas.core.frame.DataFrame'>\n",
      "RangeIndex: 420282 entries, 0 to 420281\n",
      "Data columns (total 3 columns):\n",
      " #   Column          Non-Null Count   Dtype  \n",
      "---  ------          --------------   -----  \n",
      " 0   order_id        420282 non-null  int64  \n",
      " 1   plan_at         420282 non-null  object \n",
      " 2   plan_sum_total  420282 non-null  float64\n",
      "dtypes: float64(1), int64(1), object(1)\n",
      "memory usage: 9.6+ MB\n"
     ]
    }
   ],
   "source": [
    "# Импорт таблицы plan и создание датафрейма\n",
    "df_plan = pd.read_csv('./plan.csv')\n",
    "df_plan.info()"
   ]
  },
  {
   "cell_type": "code",
   "execution_count": 6,
   "metadata": {},
   "outputs": [
    {
     "data": {
      "text/html": [
       "<div>\n",
       "<style scoped>\n",
       "    .dataframe tbody tr th:only-of-type {\n",
       "        vertical-align: middle;\n",
       "    }\n",
       "\n",
       "    .dataframe tbody tr th {\n",
       "        vertical-align: top;\n",
       "    }\n",
       "\n",
       "    .dataframe thead th {\n",
       "        text-align: right;\n",
       "    }\n",
       "</style>\n",
       "<table border=\"1\" class=\"dataframe\">\n",
       "  <thead>\n",
       "    <tr style=\"text-align: right;\">\n",
       "      <th></th>\n",
       "      <th>order_id</th>\n",
       "      <th>plan_at</th>\n",
       "      <th>plan_sum_total</th>\n",
       "    </tr>\n",
       "  </thead>\n",
       "  <tbody>\n",
       "    <tr>\n",
       "      <th>0</th>\n",
       "      <td>400001732</td>\n",
       "      <td>2022-06-02</td>\n",
       "      <td>5600.0</td>\n",
       "    </tr>\n",
       "    <tr>\n",
       "      <th>1</th>\n",
       "      <td>400001732</td>\n",
       "      <td>2022-07-02</td>\n",
       "      <td>9450.0</td>\n",
       "    </tr>\n",
       "    <tr>\n",
       "      <th>2</th>\n",
       "      <td>400001732</td>\n",
       "      <td>2022-08-01</td>\n",
       "      <td>12170.0</td>\n",
       "    </tr>\n",
       "    <tr>\n",
       "      <th>3</th>\n",
       "      <td>400001732</td>\n",
       "      <td>2022-08-31</td>\n",
       "      <td>14890.0</td>\n",
       "    </tr>\n",
       "    <tr>\n",
       "      <th>4</th>\n",
       "      <td>400001732</td>\n",
       "      <td>2022-09-30</td>\n",
       "      <td>17610.0</td>\n",
       "    </tr>\n",
       "  </tbody>\n",
       "</table>\n",
       "</div>"
      ],
      "text/plain": [
       "    order_id     plan_at  plan_sum_total\n",
       "0  400001732  2022-06-02          5600.0\n",
       "1  400001732  2022-07-02          9450.0\n",
       "2  400001732  2022-08-01         12170.0\n",
       "3  400001732  2022-08-31         14890.0\n",
       "4  400001732  2022-09-30         17610.0"
      ]
     },
     "execution_count": 6,
     "metadata": {},
     "output_type": "execute_result"
    }
   ],
   "source": [
    "df_plan.head()"
   ]
  },
  {
   "cell_type": "markdown",
   "metadata": {},
   "source": [
    "### Данные таблицы plan\n",
    "* order_id - номер\n",
    "* plan_at - дата планового платежа\n",
    "* plan_sum_total - сумма планового платежа (накопительный итог)"
   ]
  },
  {
   "cell_type": "code",
   "execution_count": 7,
   "metadata": {},
   "outputs": [
    {
     "name": "stdout",
     "output_type": "stream",
     "text": [
      "<class 'pandas.core.frame.DataFrame'>\n",
      "RangeIndex: 143284 entries, 0 to 143283\n",
      "Data columns (total 3 columns):\n",
      " #   Column    Non-Null Count   Dtype  \n",
      "---  ------    --------------   -----  \n",
      " 0   order_id  143284 non-null  int64  \n",
      " 1   paid_at   143284 non-null  object \n",
      " 2   paid_sum  143284 non-null  float64\n",
      "dtypes: float64(1), int64(1), object(1)\n",
      "memory usage: 3.3+ MB\n"
     ]
    }
   ],
   "source": [
    "# Импорт таблицы payments и создание датафрейма\n",
    "df_payments = pd.read_csv('./payments.csv')\n",
    "df_payments.info()"
   ]
  },
  {
   "cell_type": "code",
   "execution_count": 35,
   "metadata": {},
   "outputs": [
    {
     "data": {
      "text/html": [
       "<div>\n",
       "<style scoped>\n",
       "    .dataframe tbody tr th:only-of-type {\n",
       "        vertical-align: middle;\n",
       "    }\n",
       "\n",
       "    .dataframe tbody tr th {\n",
       "        vertical-align: top;\n",
       "    }\n",
       "\n",
       "    .dataframe thead th {\n",
       "        text-align: right;\n",
       "    }\n",
       "</style>\n",
       "<table border=\"1\" class=\"dataframe\">\n",
       "  <thead>\n",
       "    <tr style=\"text-align: right;\">\n",
       "      <th></th>\n",
       "      <th>order_id</th>\n",
       "      <th>paid_at</th>\n",
       "      <th>paid_sum</th>\n",
       "    </tr>\n",
       "  </thead>\n",
       "  <tbody>\n",
       "    <tr>\n",
       "      <th>0</th>\n",
       "      <td>400013633</td>\n",
       "      <td>2022-06-02 00:48:13.800</td>\n",
       "      <td>2500.0</td>\n",
       "    </tr>\n",
       "    <tr>\n",
       "      <th>1</th>\n",
       "      <td>400018480</td>\n",
       "      <td>2022-06-02 01:52:05.707</td>\n",
       "      <td>1070.0</td>\n",
       "    </tr>\n",
       "    <tr>\n",
       "      <th>2</th>\n",
       "      <td>400032001</td>\n",
       "      <td>2022-06-02 04:55:40.307</td>\n",
       "      <td>4200.0</td>\n",
       "    </tr>\n",
       "    <tr>\n",
       "      <th>3</th>\n",
       "      <td>400033195</td>\n",
       "      <td>2022-06-02 05:44:23.480</td>\n",
       "      <td>2850.0</td>\n",
       "    </tr>\n",
       "    <tr>\n",
       "      <th>4</th>\n",
       "      <td>400039407</td>\n",
       "      <td>2022-06-02 06:53:54.503</td>\n",
       "      <td>10100.0</td>\n",
       "    </tr>\n",
       "  </tbody>\n",
       "</table>\n",
       "</div>"
      ],
      "text/plain": [
       "    order_id                  paid_at  paid_sum\n",
       "0  400013633  2022-06-02 00:48:13.800    2500.0\n",
       "1  400018480  2022-06-02 01:52:05.707    1070.0\n",
       "2  400032001  2022-06-02 04:55:40.307    4200.0\n",
       "3  400033195  2022-06-02 05:44:23.480    2850.0\n",
       "4  400039407  2022-06-02 06:53:54.503   10100.0"
      ]
     },
     "execution_count": 35,
     "metadata": {},
     "output_type": "execute_result"
    }
   ],
   "source": [
    "df_payments.head()"
   ]
  },
  {
   "cell_type": "markdown",
   "metadata": {},
   "source": [
    "### Данные таблицы payments\n",
    "* order_id - номер заявки \n",
    "* paid_at - дата фактического платежа\n",
    "* paid_sum  - сумма фактического платежа (накопительный итог)"
   ]
  },
  {
   "cell_type": "markdown",
   "metadata": {},
   "source": [
    "## Предобработка данных"
   ]
  },
  {
   "cell_type": "markdown",
   "metadata": {},
   "source": [
    "#### *Поиск и обработка пропусков*"
   ]
  },
  {
   "cell_type": "code",
   "execution_count": 36,
   "metadata": {},
   "outputs": [
    {
     "data": {
      "text/plain": [
       "order_id         0\n",
       "created_at       0\n",
       "put_at           0\n",
       "closed_at     9276\n",
       "issued_sum       0\n",
       "dtype: int64"
      ]
     },
     "execution_count": 36,
     "metadata": {},
     "output_type": "execute_result"
    }
   ],
   "source": [
    "df_orders.isna().sum()"
   ]
  },
  {
   "cell_type": "markdown",
   "metadata": {},
   "source": [
    "##### Пропущенные значения в таблице не обнаружены, на конец исследуемого периода 9276 незакрытых кредита"
   ]
  },
  {
   "cell_type": "code",
   "execution_count": 37,
   "metadata": {},
   "outputs": [
    {
     "data": {
      "text/plain": [
       "order_id          0\n",
       "plan_at           0\n",
       "plan_sum_total    0\n",
       "dtype: int64"
      ]
     },
     "execution_count": 37,
     "metadata": {},
     "output_type": "execute_result"
    }
   ],
   "source": [
    "df_plan.isna().sum()"
   ]
  },
  {
   "cell_type": "code",
   "execution_count": 38,
   "metadata": {},
   "outputs": [
    {
     "data": {
      "text/plain": [
       "order_id    0\n",
       "paid_at     0\n",
       "paid_sum    0\n",
       "dtype: int64"
      ]
     },
     "execution_count": 38,
     "metadata": {},
     "output_type": "execute_result"
    }
   ],
   "source": [
    "df_payments.isna().sum()"
   ]
  },
  {
   "cell_type": "markdown",
   "metadata": {},
   "source": [
    "#### *Поиск и обработка дубликатов*"
   ]
  },
  {
   "cell_type": "code",
   "execution_count": 39,
   "metadata": {},
   "outputs": [
    {
     "data": {
      "text/plain": [
       "0"
      ]
     },
     "execution_count": 39,
     "metadata": {},
     "output_type": "execute_result"
    }
   ],
   "source": [
    "num_doubl = int(df_orders.duplicated().sum())\n",
    "num_doubl"
   ]
  },
  {
   "cell_type": "markdown",
   "metadata": {},
   "source": [
    "##### Дубликаты не обнаружены"
   ]
  },
  {
   "cell_type": "code",
   "execution_count": 40,
   "metadata": {},
   "outputs": [
    {
     "data": {
      "text/plain": [
       "5"
      ]
     },
     "execution_count": 40,
     "metadata": {},
     "output_type": "execute_result"
    }
   ],
   "source": [
    "num_doubl_p = int(df_payments.duplicated().sum())\n",
    "num_doubl_p"
   ]
  },
  {
   "cell_type": "code",
   "execution_count": 41,
   "metadata": {},
   "outputs": [
    {
     "data": {
      "text/html": [
       "<div>\n",
       "<style scoped>\n",
       "    .dataframe tbody tr th:only-of-type {\n",
       "        vertical-align: middle;\n",
       "    }\n",
       "\n",
       "    .dataframe tbody tr th {\n",
       "        vertical-align: top;\n",
       "    }\n",
       "\n",
       "    .dataframe thead th {\n",
       "        text-align: right;\n",
       "    }\n",
       "</style>\n",
       "<table border=\"1\" class=\"dataframe\">\n",
       "  <thead>\n",
       "    <tr style=\"text-align: right;\">\n",
       "      <th></th>\n",
       "      <th>order_id</th>\n",
       "      <th>paid_at</th>\n",
       "      <th>paid_sum</th>\n",
       "    </tr>\n",
       "  </thead>\n",
       "  <tbody>\n",
       "    <tr>\n",
       "      <th>11475</th>\n",
       "      <td>411504997</td>\n",
       "      <td>2022-06-24 17:14:56.997</td>\n",
       "      <td>10100.0</td>\n",
       "    </tr>\n",
       "    <tr>\n",
       "      <th>12470</th>\n",
       "      <td>422632789</td>\n",
       "      <td>2022-06-25 23:16:16.000</td>\n",
       "      <td>8080.0</td>\n",
       "    </tr>\n",
       "    <tr>\n",
       "      <th>37759</th>\n",
       "      <td>432761640</td>\n",
       "      <td>2022-07-21 12:38:12.000</td>\n",
       "      <td>150.0</td>\n",
       "    </tr>\n",
       "    <tr>\n",
       "      <th>38414</th>\n",
       "      <td>420036980</td>\n",
       "      <td>2022-07-21 20:08:58.997</td>\n",
       "      <td>4800.0</td>\n",
       "    </tr>\n",
       "    <tr>\n",
       "      <th>139590</th>\n",
       "      <td>456075017</td>\n",
       "      <td>2022-11-22 19:44:08.793</td>\n",
       "      <td>2720.0</td>\n",
       "    </tr>\n",
       "  </tbody>\n",
       "</table>\n",
       "</div>"
      ],
      "text/plain": [
       "         order_id                  paid_at  paid_sum\n",
       "11475   411504997  2022-06-24 17:14:56.997   10100.0\n",
       "12470   422632789  2022-06-25 23:16:16.000    8080.0\n",
       "37759   432761640  2022-07-21 12:38:12.000     150.0\n",
       "38414   420036980  2022-07-21 20:08:58.997    4800.0\n",
       "139590  456075017  2022-11-22 19:44:08.793    2720.0"
      ]
     },
     "execution_count": 41,
     "metadata": {},
     "output_type": "execute_result"
    }
   ],
   "source": [
    "df_payments[df_payments.duplicated() == True]"
   ]
  },
  {
   "cell_type": "markdown",
   "metadata": {},
   "source": [
    "##### Обнаружено 5 дубликатов"
   ]
  },
  {
   "cell_type": "code",
   "execution_count": 42,
   "metadata": {},
   "outputs": [
    {
     "data": {
      "text/html": [
       "<div>\n",
       "<style scoped>\n",
       "    .dataframe tbody tr th:only-of-type {\n",
       "        vertical-align: middle;\n",
       "    }\n",
       "\n",
       "    .dataframe tbody tr th {\n",
       "        vertical-align: top;\n",
       "    }\n",
       "\n",
       "    .dataframe thead th {\n",
       "        text-align: right;\n",
       "    }\n",
       "</style>\n",
       "<table border=\"1\" class=\"dataframe\">\n",
       "  <thead>\n",
       "    <tr style=\"text-align: right;\">\n",
       "      <th></th>\n",
       "      <th>order_id</th>\n",
       "      <th>paid_at</th>\n",
       "      <th>paid_sum</th>\n",
       "    </tr>\n",
       "  </thead>\n",
       "  <tbody>\n",
       "    <tr>\n",
       "      <th>0</th>\n",
       "      <td>400013633</td>\n",
       "      <td>2022-06-02 00:48:13.800</td>\n",
       "      <td>2500.00</td>\n",
       "    </tr>\n",
       "    <tr>\n",
       "      <th>1</th>\n",
       "      <td>400018480</td>\n",
       "      <td>2022-06-02 01:52:05.707</td>\n",
       "      <td>1070.00</td>\n",
       "    </tr>\n",
       "    <tr>\n",
       "      <th>2</th>\n",
       "      <td>400032001</td>\n",
       "      <td>2022-06-02 04:55:40.307</td>\n",
       "      <td>4200.00</td>\n",
       "    </tr>\n",
       "    <tr>\n",
       "      <th>3</th>\n",
       "      <td>400033195</td>\n",
       "      <td>2022-06-02 05:44:23.480</td>\n",
       "      <td>2850.00</td>\n",
       "    </tr>\n",
       "    <tr>\n",
       "      <th>4</th>\n",
       "      <td>400039407</td>\n",
       "      <td>2022-06-02 06:53:54.503</td>\n",
       "      <td>10100.00</td>\n",
       "    </tr>\n",
       "    <tr>\n",
       "      <th>...</th>\n",
       "      <td>...</td>\n",
       "      <td>...</td>\n",
       "      <td>...</td>\n",
       "    </tr>\n",
       "    <tr>\n",
       "      <th>143279</th>\n",
       "      <td>469255350</td>\n",
       "      <td>2022-12-08 12:57:23.747</td>\n",
       "      <td>343.99</td>\n",
       "    </tr>\n",
       "    <tr>\n",
       "      <th>143280</th>\n",
       "      <td>452985418</td>\n",
       "      <td>2022-12-08 12:59:40.997</td>\n",
       "      <td>984.83</td>\n",
       "    </tr>\n",
       "    <tr>\n",
       "      <th>143281</th>\n",
       "      <td>490824962</td>\n",
       "      <td>2022-12-08 13:09:21.673</td>\n",
       "      <td>866.04</td>\n",
       "    </tr>\n",
       "    <tr>\n",
       "      <th>143282</th>\n",
       "      <td>480026135</td>\n",
       "      <td>2022-12-08 13:25:11.987</td>\n",
       "      <td>1193.25</td>\n",
       "    </tr>\n",
       "    <tr>\n",
       "      <th>143283</th>\n",
       "      <td>436374755</td>\n",
       "      <td>2022-12-08 13:28:23.703</td>\n",
       "      <td>381.10</td>\n",
       "    </tr>\n",
       "  </tbody>\n",
       "</table>\n",
       "<p>143279 rows × 3 columns</p>\n",
       "</div>"
      ],
      "text/plain": [
       "         order_id                  paid_at  paid_sum\n",
       "0       400013633  2022-06-02 00:48:13.800   2500.00\n",
       "1       400018480  2022-06-02 01:52:05.707   1070.00\n",
       "2       400032001  2022-06-02 04:55:40.307   4200.00\n",
       "3       400033195  2022-06-02 05:44:23.480   2850.00\n",
       "4       400039407  2022-06-02 06:53:54.503  10100.00\n",
       "...           ...                      ...       ...\n",
       "143279  469255350  2022-12-08 12:57:23.747    343.99\n",
       "143280  452985418  2022-12-08 12:59:40.997    984.83\n",
       "143281  490824962  2022-12-08 13:09:21.673    866.04\n",
       "143282  480026135  2022-12-08 13:25:11.987   1193.25\n",
       "143283  436374755  2022-12-08 13:28:23.703    381.10\n",
       "\n",
       "[143279 rows x 3 columns]"
      ]
     },
     "execution_count": 42,
     "metadata": {},
     "output_type": "execute_result"
    }
   ],
   "source": [
    "# Удаление дубликатов из таблицы\n",
    "df_payments = df_payments.drop_duplicates(['order_id', 'paid_at', 'paid_sum'])\n",
    "df_payments"
   ]
  },
  {
   "cell_type": "markdown",
   "metadata": {},
   "source": [
    "#### *Проверка диапазона значений и изменение типов данных*"
   ]
  },
  {
   "cell_type": "code",
   "execution_count": 43,
   "metadata": {},
   "outputs": [
    {
     "data": {
      "text/plain": [
       "Index(['order_id', 'created_at', 'put_at', 'closed_at', 'issued_sum'], dtype='object')"
      ]
     },
     "execution_count": 43,
     "metadata": {},
     "output_type": "execute_result"
    }
   ],
   "source": [
    "df_orders.columns"
   ]
  },
  {
   "cell_type": "code",
   "execution_count": 44,
   "metadata": {},
   "outputs": [
    {
     "name": "stdout",
     "output_type": "stream",
     "text": [
      "<class 'pandas.core.frame.DataFrame'>\n",
      "RangeIndex: 55748 entries, 0 to 55747\n",
      "Data columns (total 5 columns):\n",
      " #   Column      Non-Null Count  Dtype         \n",
      "---  ------      --------------  -----         \n",
      " 0   order_id    55748 non-null  int64         \n",
      " 1   created_at  55748 non-null  datetime64[ns]\n",
      " 2   put_at      55748 non-null  datetime64[ns]\n",
      " 3   closed_at   46472 non-null  datetime64[ns]\n",
      " 4   issued_sum  55748 non-null  float64       \n",
      "dtypes: datetime64[ns](3), float64(1), int64(1)\n",
      "memory usage: 2.1 MB\n"
     ]
    }
   ],
   "source": [
    "# Изменение типа столбцов с датами на datetime64[ns]\n",
    "df_orders[['created_at', 'put_at', 'closed_at']] = df_orders[['created_at', 'put_at', 'closed_at']].apply(pd.to_datetime, errors='coerce')\n",
    "df_orders.info()"
   ]
  },
  {
   "cell_type": "code",
   "execution_count": 45,
   "metadata": {},
   "outputs": [
    {
     "data": {
      "image/png": "[encoded data removed]",
      "text/plain": [
       "<Figure size 640x480 with 1 Axes>"
      ]
     },
     "metadata": {},
     "output_type": "display_data"
    }
   ],
   "source": [
    "# Гистограмма распределения значений сумм кретидов\n",
    "plt.hist(df_orders['issued_sum'])\n",
    "plt.title(\"Гистограмма распределения сумм кредитов\")\n",
    "plt.xlabel(\"Частота\")\n",
    "plt.ylabel(\"Сумма кредита\")\n",
    "plt.show()\n"
   ]
  },
  {
   "cell_type": "code",
   "execution_count": 46,
   "metadata": {},
   "outputs": [
    {
     "data": {
      "text/plain": [
       "1000.0"
      ]
     },
     "execution_count": 46,
     "metadata": {},
     "output_type": "execute_result"
    }
   ],
   "source": [
    "# Минимальная сумма кредита\n",
    "min_sum = float(df_orders['issued_sum'].min())\n",
    "min_sum"
   ]
  },
  {
   "cell_type": "code",
   "execution_count": 47,
   "metadata": {},
   "outputs": [
    {
     "data": {
      "text/plain": [
       "28570.0"
      ]
     },
     "execution_count": 47,
     "metadata": {},
     "output_type": "execute_result"
    }
   ],
   "source": [
    "# Максимальная сумма кредита\n",
    "max_sum = float(df_orders['issued_sum'].max())\n",
    "max_sum"
   ]
  },
  {
   "cell_type": "markdown",
   "metadata": {},
   "source": [
    "##### Диапазоны значений сумм кредитов проверены, экстремально больших значений не обнаружено"
   ]
  },
  {
   "cell_type": "code",
   "execution_count": 48,
   "metadata": {},
   "outputs": [
    {
     "data": {
      "text/plain": [
       "Index(['order_id', 'plan_at', 'plan_sum_total'], dtype='object')"
      ]
     },
     "execution_count": 48,
     "metadata": {},
     "output_type": "execute_result"
    }
   ],
   "source": [
    "df_plan.columns"
   ]
  },
  {
   "cell_type": "code",
   "execution_count": 49,
   "metadata": {},
   "outputs": [
    {
     "name": "stdout",
     "output_type": "stream",
     "text": [
      "<class 'pandas.core.frame.DataFrame'>\n",
      "RangeIndex: 420282 entries, 0 to 420281\n",
      "Data columns (total 3 columns):\n",
      " #   Column          Non-Null Count   Dtype         \n",
      "---  ------          --------------   -----         \n",
      " 0   order_id        420282 non-null  int64         \n",
      " 1   plan_at         420282 non-null  datetime64[ns]\n",
      " 2   plan_sum_total  420282 non-null  float64       \n",
      "dtypes: datetime64[ns](1), float64(1), int64(1)\n",
      "memory usage: 9.6 MB\n"
     ]
    }
   ],
   "source": [
    "# Изменение типа столбцов с датами на datetime64[ns]\n",
    "df_plan['plan_at'] = pd.to_datetime(df_plan['plan_at'])\n",
    "df_plan.info()"
   ]
  },
  {
   "cell_type": "code",
   "execution_count": 50,
   "metadata": {},
   "outputs": [
    {
     "data": {
      "text/plain": [
       "Index(['order_id', 'paid_at', 'paid_sum'], dtype='object')"
      ]
     },
     "execution_count": 50,
     "metadata": {},
     "output_type": "execute_result"
    }
   ],
   "source": [
    "df_payments.columns"
   ]
  },
  {
   "cell_type": "code",
   "execution_count": 51,
   "metadata": {},
   "outputs": [
    {
     "name": "stdout",
     "output_type": "stream",
     "text": [
      "<class 'pandas.core.frame.DataFrame'>\n",
      "Index: 143279 entries, 0 to 143283\n",
      "Data columns (total 3 columns):\n",
      " #   Column    Non-Null Count   Dtype         \n",
      "---  ------    --------------   -----         \n",
      " 0   order_id  143279 non-null  int64         \n",
      " 1   paid_at   143279 non-null  datetime64[ns]\n",
      " 2   paid_sum  143279 non-null  float64       \n",
      "dtypes: datetime64[ns](1), float64(1), int64(1)\n",
      "memory usage: 4.4 MB\n"
     ]
    }
   ],
   "source": [
    "# Изменение типа столбцов с датами на datetime64[ns]\n",
    "df_payments['paid_at'] = pd.to_datetime(df_payments['paid_at'])\n",
    "df_payments.info()"
   ]
  },
  {
   "cell_type": "markdown",
   "metadata": {},
   "source": [
    "##### Динамику просрочки можно проанализировать через показатель нарушения сроков исполнения обязательств (то есть оплата позже запланированного срока) и показатель нарушения объемов исполнения обязательств\n"
   ]
  },
  {
   "cell_type": "markdown",
   "metadata": {},
   "source": [
    "### Анализ динамики нарушения объемов исполнения обязательств по дням "
   ]
  },
  {
   "cell_type": "code",
   "execution_count": 52,
   "metadata": {},
   "outputs": [],
   "source": [
    "# Форматирование стобцов с датами для последующей группировки данных по дням без учета времени (час и минуты) платежа\n",
    "df_payments['paid_at'] = df_payments['paid_at'].dt.floor('d')"
   ]
  },
  {
   "cell_type": "code",
   "execution_count": 53,
   "metadata": {},
   "outputs": [],
   "source": [
    "# Форматирование стобцов с датами для последующей группировки данных по дням без учета времени (час и минуты) платежа\n",
    "df_plan['plan_at'] = df_plan['plan_at'].dt.floor('d')"
   ]
  },
  {
   "cell_type": "code",
   "execution_count": 54,
   "metadata": {},
   "outputs": [
    {
     "data": {
      "text/html": [
       "<div>\n",
       "<style scoped>\n",
       "    .dataframe tbody tr th:only-of-type {\n",
       "        vertical-align: middle;\n",
       "    }\n",
       "\n",
       "    .dataframe tbody tr th {\n",
       "        vertical-align: top;\n",
       "    }\n",
       "\n",
       "    .dataframe thead th {\n",
       "        text-align: right;\n",
       "    }\n",
       "</style>\n",
       "<table border=\"1\" class=\"dataframe\">\n",
       "  <thead>\n",
       "    <tr style=\"text-align: right;\">\n",
       "      <th></th>\n",
       "      <th>order_id</th>\n",
       "      <th>plan_at</th>\n",
       "      <th>plan_sum_total</th>\n",
       "      <th>plan_sum</th>\n",
       "    </tr>\n",
       "  </thead>\n",
       "  <tbody>\n",
       "    <tr>\n",
       "      <th>0</th>\n",
       "      <td>400001732</td>\n",
       "      <td>2022-06-02</td>\n",
       "      <td>5600.00</td>\n",
       "      <td>5600.00</td>\n",
       "    </tr>\n",
       "    <tr>\n",
       "      <th>1</th>\n",
       "      <td>400001732</td>\n",
       "      <td>2022-07-02</td>\n",
       "      <td>9450.00</td>\n",
       "      <td>3850.00</td>\n",
       "    </tr>\n",
       "    <tr>\n",
       "      <th>2</th>\n",
       "      <td>400001732</td>\n",
       "      <td>2022-08-01</td>\n",
       "      <td>12170.00</td>\n",
       "      <td>2720.00</td>\n",
       "    </tr>\n",
       "    <tr>\n",
       "      <th>3</th>\n",
       "      <td>400001732</td>\n",
       "      <td>2022-08-31</td>\n",
       "      <td>14890.00</td>\n",
       "      <td>2720.00</td>\n",
       "    </tr>\n",
       "    <tr>\n",
       "      <th>4</th>\n",
       "      <td>400001732</td>\n",
       "      <td>2022-09-30</td>\n",
       "      <td>17610.00</td>\n",
       "      <td>2720.00</td>\n",
       "    </tr>\n",
       "    <tr>\n",
       "      <th>...</th>\n",
       "      <td>...</td>\n",
       "      <td>...</td>\n",
       "      <td>...</td>\n",
       "      <td>...</td>\n",
       "    </tr>\n",
       "    <tr>\n",
       "      <th>420277</th>\n",
       "      <td>495177509</td>\n",
       "      <td>2022-12-22</td>\n",
       "      <td>34248.70</td>\n",
       "      <td>2651.33</td>\n",
       "    </tr>\n",
       "    <tr>\n",
       "      <th>420278</th>\n",
       "      <td>495177509</td>\n",
       "      <td>2023-01-06</td>\n",
       "      <td>36863.04</td>\n",
       "      <td>2614.34</td>\n",
       "    </tr>\n",
       "    <tr>\n",
       "      <th>420279</th>\n",
       "      <td>495177509</td>\n",
       "      <td>2023-01-21</td>\n",
       "      <td>39440.38</td>\n",
       "      <td>2577.34</td>\n",
       "    </tr>\n",
       "    <tr>\n",
       "      <th>420280</th>\n",
       "      <td>495177509</td>\n",
       "      <td>2023-02-05</td>\n",
       "      <td>41980.73</td>\n",
       "      <td>2540.35</td>\n",
       "    </tr>\n",
       "    <tr>\n",
       "      <th>420281</th>\n",
       "      <td>495177509</td>\n",
       "      <td>2023-02-20</td>\n",
       "      <td>44484.12</td>\n",
       "      <td>2503.39</td>\n",
       "    </tr>\n",
       "  </tbody>\n",
       "</table>\n",
       "<p>420282 rows × 4 columns</p>\n",
       "</div>"
      ],
      "text/plain": [
       "         order_id    plan_at  plan_sum_total  plan_sum\n",
       "0       400001732 2022-06-02         5600.00   5600.00\n",
       "1       400001732 2022-07-02         9450.00   3850.00\n",
       "2       400001732 2022-08-01        12170.00   2720.00\n",
       "3       400001732 2022-08-31        14890.00   2720.00\n",
       "4       400001732 2022-09-30        17610.00   2720.00\n",
       "...           ...        ...             ...       ...\n",
       "420277  495177509 2022-12-22        34248.70   2651.33\n",
       "420278  495177509 2023-01-06        36863.04   2614.34\n",
       "420279  495177509 2023-01-21        39440.38   2577.34\n",
       "420280  495177509 2023-02-05        41980.73   2540.35\n",
       "420281  495177509 2023-02-20        44484.12   2503.39\n",
       "\n",
       "[420282 rows x 4 columns]"
      ]
     },
     "execution_count": 54,
     "metadata": {},
     "output_type": "execute_result"
    }
   ],
   "source": [
    "# Пересчет величины плановых платежей в суммы без накопительного итога\n",
    "df_plan['plan_sum'] = df_plan.groupby('order_id', as_index=False)['plan_sum_total'].diff().fillna(df_plan['plan_sum_total'])\n",
    "df_plan\n"
   ]
  },
  {
   "cell_type": "code",
   "execution_count": 55,
   "metadata": {},
   "outputs": [
    {
     "data": {
      "text/html": [
       "<div>\n",
       "<style scoped>\n",
       "    .dataframe tbody tr th:only-of-type {\n",
       "        vertical-align: middle;\n",
       "    }\n",
       "\n",
       "    .dataframe tbody tr th {\n",
       "        vertical-align: top;\n",
       "    }\n",
       "\n",
       "    .dataframe thead th {\n",
       "        text-align: right;\n",
       "    }\n",
       "</style>\n",
       "<table border=\"1\" class=\"dataframe\">\n",
       "  <thead>\n",
       "    <tr style=\"text-align: right;\">\n",
       "      <th></th>\n",
       "      <th>order_id</th>\n",
       "      <th>plan_at</th>\n",
       "      <th>plan_sum_total</th>\n",
       "      <th>plan_sum</th>\n",
       "    </tr>\n",
       "  </thead>\n",
       "  <tbody>\n",
       "    <tr>\n",
       "      <th>0</th>\n",
       "      <td>400001732</td>\n",
       "      <td>2022-06-02</td>\n",
       "      <td>5600.00</td>\n",
       "      <td>5600.00</td>\n",
       "    </tr>\n",
       "    <tr>\n",
       "      <th>1</th>\n",
       "      <td>400001732</td>\n",
       "      <td>2022-07-02</td>\n",
       "      <td>9450.00</td>\n",
       "      <td>3850.00</td>\n",
       "    </tr>\n",
       "    <tr>\n",
       "      <th>2</th>\n",
       "      <td>400001732</td>\n",
       "      <td>2022-08-01</td>\n",
       "      <td>12170.00</td>\n",
       "      <td>2720.00</td>\n",
       "    </tr>\n",
       "    <tr>\n",
       "      <th>3</th>\n",
       "      <td>400001732</td>\n",
       "      <td>2022-08-31</td>\n",
       "      <td>14890.00</td>\n",
       "      <td>2720.00</td>\n",
       "    </tr>\n",
       "    <tr>\n",
       "      <th>4</th>\n",
       "      <td>400001732</td>\n",
       "      <td>2022-09-30</td>\n",
       "      <td>17610.00</td>\n",
       "      <td>2720.00</td>\n",
       "    </tr>\n",
       "    <tr>\n",
       "      <th>...</th>\n",
       "      <td>...</td>\n",
       "      <td>...</td>\n",
       "      <td>...</td>\n",
       "      <td>...</td>\n",
       "    </tr>\n",
       "    <tr>\n",
       "      <th>420272</th>\n",
       "      <td>495177509</td>\n",
       "      <td>2022-10-08</td>\n",
       "      <td>19956.17</td>\n",
       "      <td>3946.17</td>\n",
       "    </tr>\n",
       "    <tr>\n",
       "      <th>420273</th>\n",
       "      <td>495177509</td>\n",
       "      <td>2022-10-23</td>\n",
       "      <td>23421.40</td>\n",
       "      <td>3465.23</td>\n",
       "    </tr>\n",
       "    <tr>\n",
       "      <th>420274</th>\n",
       "      <td>495177509</td>\n",
       "      <td>2022-11-07</td>\n",
       "      <td>26183.72</td>\n",
       "      <td>2762.32</td>\n",
       "    </tr>\n",
       "    <tr>\n",
       "      <th>420275</th>\n",
       "      <td>495177509</td>\n",
       "      <td>2022-11-22</td>\n",
       "      <td>28909.04</td>\n",
       "      <td>2725.32</td>\n",
       "    </tr>\n",
       "    <tr>\n",
       "      <th>420276</th>\n",
       "      <td>495177509</td>\n",
       "      <td>2022-12-07</td>\n",
       "      <td>31597.37</td>\n",
       "      <td>2688.33</td>\n",
       "    </tr>\n",
       "  </tbody>\n",
       "</table>\n",
       "<p>333399 rows × 4 columns</p>\n",
       "</div>"
      ],
      "text/plain": [
       "         order_id    plan_at  plan_sum_total  plan_sum\n",
       "0       400001732 2022-06-02         5600.00   5600.00\n",
       "1       400001732 2022-07-02         9450.00   3850.00\n",
       "2       400001732 2022-08-01        12170.00   2720.00\n",
       "3       400001732 2022-08-31        14890.00   2720.00\n",
       "4       400001732 2022-09-30        17610.00   2720.00\n",
       "...           ...        ...             ...       ...\n",
       "420272  495177509 2022-10-08        19956.17   3946.17\n",
       "420273  495177509 2022-10-23        23421.40   3465.23\n",
       "420274  495177509 2022-11-07        26183.72   2762.32\n",
       "420275  495177509 2022-11-22        28909.04   2725.32\n",
       "420276  495177509 2022-12-07        31597.37   2688.33\n",
       "\n",
       "[333399 rows x 4 columns]"
      ]
     },
     "execution_count": 55,
     "metadata": {},
     "output_type": "execute_result"
    }
   ],
   "source": [
    "# Выбор из таблицы заказов, обязательства по которым должны быть выполнены до даты анализа 2022-12-08\n",
    "df_plan_to_now = df_plan[df_plan['plan_at'] <= '2022-12-08']\n",
    "df_plan_to_now"
   ]
  },
  {
   "cell_type": "code",
   "execution_count": 56,
   "metadata": {},
   "outputs": [
    {
     "data": {
      "text/html": [
       "<div>\n",
       "<style scoped>\n",
       "    .dataframe tbody tr th:only-of-type {\n",
       "        vertical-align: middle;\n",
       "    }\n",
       "\n",
       "    .dataframe tbody tr th {\n",
       "        vertical-align: top;\n",
       "    }\n",
       "\n",
       "    .dataframe thead th {\n",
       "        text-align: right;\n",
       "    }\n",
       "</style>\n",
       "<table border=\"1\" class=\"dataframe\">\n",
       "  <thead>\n",
       "    <tr style=\"text-align: right;\">\n",
       "      <th></th>\n",
       "      <th>date</th>\n",
       "      <th>plan_sum</th>\n",
       "    </tr>\n",
       "  </thead>\n",
       "  <tbody>\n",
       "    <tr>\n",
       "      <th>0</th>\n",
       "      <td>2022-06-02</td>\n",
       "      <td>610900.00</td>\n",
       "    </tr>\n",
       "    <tr>\n",
       "      <th>1</th>\n",
       "      <td>2022-06-03</td>\n",
       "      <td>652960.00</td>\n",
       "    </tr>\n",
       "    <tr>\n",
       "      <th>2</th>\n",
       "      <td>2022-06-04</td>\n",
       "      <td>629490.00</td>\n",
       "    </tr>\n",
       "    <tr>\n",
       "      <th>3</th>\n",
       "      <td>2022-06-05</td>\n",
       "      <td>636820.00</td>\n",
       "    </tr>\n",
       "    <tr>\n",
       "      <th>4</th>\n",
       "      <td>2022-06-06</td>\n",
       "      <td>858330.00</td>\n",
       "    </tr>\n",
       "    <tr>\n",
       "      <th>...</th>\n",
       "      <td>...</td>\n",
       "      <td>...</td>\n",
       "    </tr>\n",
       "    <tr>\n",
       "      <th>185</th>\n",
       "      <td>2022-12-04</td>\n",
       "      <td>1696468.79</td>\n",
       "    </tr>\n",
       "    <tr>\n",
       "      <th>186</th>\n",
       "      <td>2022-12-05</td>\n",
       "      <td>1755510.35</td>\n",
       "    </tr>\n",
       "    <tr>\n",
       "      <th>187</th>\n",
       "      <td>2022-12-06</td>\n",
       "      <td>1767811.32</td>\n",
       "    </tr>\n",
       "    <tr>\n",
       "      <th>188</th>\n",
       "      <td>2022-12-07</td>\n",
       "      <td>1641300.02</td>\n",
       "    </tr>\n",
       "    <tr>\n",
       "      <th>189</th>\n",
       "      <td>2022-12-08</td>\n",
       "      <td>1639092.36</td>\n",
       "    </tr>\n",
       "  </tbody>\n",
       "</table>\n",
       "<p>190 rows × 2 columns</p>\n",
       "</div>"
      ],
      "text/plain": [
       "          date    plan_sum\n",
       "0   2022-06-02   610900.00\n",
       "1   2022-06-03   652960.00\n",
       "2   2022-06-04   629490.00\n",
       "3   2022-06-05   636820.00\n",
       "4   2022-06-06   858330.00\n",
       "..         ...         ...\n",
       "185 2022-12-04  1696468.79\n",
       "186 2022-12-05  1755510.35\n",
       "187 2022-12-06  1767811.32\n",
       "188 2022-12-07  1641300.02\n",
       "189 2022-12-08  1639092.36\n",
       "\n",
       "[190 rows x 2 columns]"
      ]
     },
     "execution_count": 56,
     "metadata": {},
     "output_type": "execute_result"
    }
   ],
   "source": [
    "# Агрегирование данных планируемых выплат по дням из таблице plan в новый датафрейм\n",
    "df_plan_by_day= df_plan_to_now.groupby('plan_at', as_index=False).agg({'plan_sum' : 'sum'}).rename(columns={'plan_at' : 'date'})\n",
    "df_plan_by_day"
   ]
  },
  {
   "cell_type": "code",
   "execution_count": 57,
   "metadata": {},
   "outputs": [
    {
     "data": {
      "text/html": [
       "<div>\n",
       "<style scoped>\n",
       "    .dataframe tbody tr th:only-of-type {\n",
       "        vertical-align: middle;\n",
       "    }\n",
       "\n",
       "    .dataframe tbody tr th {\n",
       "        vertical-align: top;\n",
       "    }\n",
       "\n",
       "    .dataframe thead th {\n",
       "        text-align: right;\n",
       "    }\n",
       "</style>\n",
       "<table border=\"1\" class=\"dataframe\">\n",
       "  <thead>\n",
       "    <tr style=\"text-align: right;\">\n",
       "      <th></th>\n",
       "      <th>date</th>\n",
       "      <th>paid_sum</th>\n",
       "    </tr>\n",
       "  </thead>\n",
       "  <tbody>\n",
       "    <tr>\n",
       "      <th>0</th>\n",
       "      <td>2022-06-02</td>\n",
       "      <td>557960.00</td>\n",
       "    </tr>\n",
       "    <tr>\n",
       "      <th>1</th>\n",
       "      <td>2022-06-03</td>\n",
       "      <td>795085.00</td>\n",
       "    </tr>\n",
       "    <tr>\n",
       "      <th>2</th>\n",
       "      <td>2022-06-04</td>\n",
       "      <td>782820.00</td>\n",
       "    </tr>\n",
       "    <tr>\n",
       "      <th>3</th>\n",
       "      <td>2022-06-05</td>\n",
       "      <td>844265.00</td>\n",
       "    </tr>\n",
       "    <tr>\n",
       "      <th>4</th>\n",
       "      <td>2022-06-06</td>\n",
       "      <td>1200220.53</td>\n",
       "    </tr>\n",
       "    <tr>\n",
       "      <th>...</th>\n",
       "      <td>...</td>\n",
       "      <td>...</td>\n",
       "    </tr>\n",
       "    <tr>\n",
       "      <th>185</th>\n",
       "      <td>2022-12-04</td>\n",
       "      <td>294529.92</td>\n",
       "    </tr>\n",
       "    <tr>\n",
       "      <th>186</th>\n",
       "      <td>2022-12-05</td>\n",
       "      <td>487246.21</td>\n",
       "    </tr>\n",
       "    <tr>\n",
       "      <th>187</th>\n",
       "      <td>2022-12-06</td>\n",
       "      <td>530829.60</td>\n",
       "    </tr>\n",
       "    <tr>\n",
       "      <th>188</th>\n",
       "      <td>2022-12-07</td>\n",
       "      <td>339686.40</td>\n",
       "    </tr>\n",
       "    <tr>\n",
       "      <th>189</th>\n",
       "      <td>2022-12-08</td>\n",
       "      <td>162666.83</td>\n",
       "    </tr>\n",
       "  </tbody>\n",
       "</table>\n",
       "<p>190 rows × 2 columns</p>\n",
       "</div>"
      ],
      "text/plain": [
       "          date    paid_sum\n",
       "0   2022-06-02   557960.00\n",
       "1   2022-06-03   795085.00\n",
       "2   2022-06-04   782820.00\n",
       "3   2022-06-05   844265.00\n",
       "4   2022-06-06  1200220.53\n",
       "..         ...         ...\n",
       "185 2022-12-04   294529.92\n",
       "186 2022-12-05   487246.21\n",
       "187 2022-12-06   530829.60\n",
       "188 2022-12-07   339686.40\n",
       "189 2022-12-08   162666.83\n",
       "\n",
       "[190 rows x 2 columns]"
      ]
     },
     "execution_count": 57,
     "metadata": {},
     "output_type": "execute_result"
    }
   ],
   "source": [
    "# Агрегирование данных фактических выплат по дням из таблице payments в новый датафрейм\n",
    "df_payments_by_day = df_payments.groupby('paid_at', as_index=False).agg({'paid_sum' : 'sum'}).rename(columns={'paid_at' : 'date'})\n",
    "df_payments_by_day"
   ]
  },
  {
   "cell_type": "code",
   "execution_count": 58,
   "metadata": {},
   "outputs": [
    {
     "data": {
      "text/html": [
       "<div>\n",
       "<style scoped>\n",
       "    .dataframe tbody tr th:only-of-type {\n",
       "        vertical-align: middle;\n",
       "    }\n",
       "\n",
       "    .dataframe tbody tr th {\n",
       "        vertical-align: top;\n",
       "    }\n",
       "\n",
       "    .dataframe thead th {\n",
       "        text-align: right;\n",
       "    }\n",
       "</style>\n",
       "<table border=\"1\" class=\"dataframe\">\n",
       "  <thead>\n",
       "    <tr style=\"text-align: right;\">\n",
       "      <th></th>\n",
       "      <th>date</th>\n",
       "      <th>paid_sum</th>\n",
       "      <th>plan_sum</th>\n",
       "    </tr>\n",
       "  </thead>\n",
       "  <tbody>\n",
       "    <tr>\n",
       "      <th>0</th>\n",
       "      <td>2022-06-02</td>\n",
       "      <td>557960.00</td>\n",
       "      <td>610900.00</td>\n",
       "    </tr>\n",
       "    <tr>\n",
       "      <th>1</th>\n",
       "      <td>2022-06-03</td>\n",
       "      <td>795085.00</td>\n",
       "      <td>652960.00</td>\n",
       "    </tr>\n",
       "    <tr>\n",
       "      <th>2</th>\n",
       "      <td>2022-06-04</td>\n",
       "      <td>782820.00</td>\n",
       "      <td>629490.00</td>\n",
       "    </tr>\n",
       "    <tr>\n",
       "      <th>3</th>\n",
       "      <td>2022-06-05</td>\n",
       "      <td>844265.00</td>\n",
       "      <td>636820.00</td>\n",
       "    </tr>\n",
       "    <tr>\n",
       "      <th>4</th>\n",
       "      <td>2022-06-06</td>\n",
       "      <td>1200220.53</td>\n",
       "      <td>858330.00</td>\n",
       "    </tr>\n",
       "    <tr>\n",
       "      <th>...</th>\n",
       "      <td>...</td>\n",
       "      <td>...</td>\n",
       "      <td>...</td>\n",
       "    </tr>\n",
       "    <tr>\n",
       "      <th>185</th>\n",
       "      <td>2022-12-04</td>\n",
       "      <td>294529.92</td>\n",
       "      <td>1696468.79</td>\n",
       "    </tr>\n",
       "    <tr>\n",
       "      <th>186</th>\n",
       "      <td>2022-12-05</td>\n",
       "      <td>487246.21</td>\n",
       "      <td>1755510.35</td>\n",
       "    </tr>\n",
       "    <tr>\n",
       "      <th>187</th>\n",
       "      <td>2022-12-06</td>\n",
       "      <td>530829.60</td>\n",
       "      <td>1767811.32</td>\n",
       "    </tr>\n",
       "    <tr>\n",
       "      <th>188</th>\n",
       "      <td>2022-12-07</td>\n",
       "      <td>339686.40</td>\n",
       "      <td>1641300.02</td>\n",
       "    </tr>\n",
       "    <tr>\n",
       "      <th>189</th>\n",
       "      <td>2022-12-08</td>\n",
       "      <td>162666.83</td>\n",
       "      <td>1639092.36</td>\n",
       "    </tr>\n",
       "  </tbody>\n",
       "</table>\n",
       "<p>190 rows × 3 columns</p>\n",
       "</div>"
      ],
      "text/plain": [
       "          date    paid_sum    plan_sum\n",
       "0   2022-06-02   557960.00   610900.00\n",
       "1   2022-06-03   795085.00   652960.00\n",
       "2   2022-06-04   782820.00   629490.00\n",
       "3   2022-06-05   844265.00   636820.00\n",
       "4   2022-06-06  1200220.53   858330.00\n",
       "..         ...         ...         ...\n",
       "185 2022-12-04   294529.92  1696468.79\n",
       "186 2022-12-05   487246.21  1755510.35\n",
       "187 2022-12-06   530829.60  1767811.32\n",
       "188 2022-12-07   339686.40  1641300.02\n",
       "189 2022-12-08   162666.83  1639092.36\n",
       "\n",
       "[190 rows x 3 columns]"
      ]
     },
     "execution_count": 58,
     "metadata": {},
     "output_type": "execute_result"
    }
   ],
   "source": [
    "# Объединение агрегированных данных с плановыми и фактическими выплатами по дням в новый датафрейм\n",
    "dif_by_day = df_payments_by_day.merge(df_plan_by_day, how='outer', on='date')\n",
    "dif_by_day"
   ]
  },
  {
   "cell_type": "code",
   "execution_count": 59,
   "metadata": {},
   "outputs": [
    {
     "data": {
      "text/html": [
       "<div>\n",
       "<style scoped>\n",
       "    .dataframe tbody tr th:only-of-type {\n",
       "        vertical-align: middle;\n",
       "    }\n",
       "\n",
       "    .dataframe tbody tr th {\n",
       "        vertical-align: top;\n",
       "    }\n",
       "\n",
       "    .dataframe thead th {\n",
       "        text-align: right;\n",
       "    }\n",
       "</style>\n",
       "<table border=\"1\" class=\"dataframe\">\n",
       "  <thead>\n",
       "    <tr style=\"text-align: right;\">\n",
       "      <th></th>\n",
       "      <th>date</th>\n",
       "      <th>paid_sum</th>\n",
       "      <th>plan_sum</th>\n",
       "      <th>dif</th>\n",
       "      <th>dif_duty</th>\n",
       "    </tr>\n",
       "  </thead>\n",
       "  <tbody>\n",
       "    <tr>\n",
       "      <th>0</th>\n",
       "      <td>2022-06-02</td>\n",
       "      <td>557960.00</td>\n",
       "      <td>610900.00</td>\n",
       "      <td>52940.00</td>\n",
       "      <td>52940.00</td>\n",
       "    </tr>\n",
       "    <tr>\n",
       "      <th>1</th>\n",
       "      <td>2022-06-03</td>\n",
       "      <td>795085.00</td>\n",
       "      <td>652960.00</td>\n",
       "      <td>-142125.00</td>\n",
       "      <td>0.00</td>\n",
       "    </tr>\n",
       "    <tr>\n",
       "      <th>2</th>\n",
       "      <td>2022-06-04</td>\n",
       "      <td>782820.00</td>\n",
       "      <td>629490.00</td>\n",
       "      <td>-153330.00</td>\n",
       "      <td>0.00</td>\n",
       "    </tr>\n",
       "    <tr>\n",
       "      <th>3</th>\n",
       "      <td>2022-06-05</td>\n",
       "      <td>844265.00</td>\n",
       "      <td>636820.00</td>\n",
       "      <td>-207445.00</td>\n",
       "      <td>0.00</td>\n",
       "    </tr>\n",
       "    <tr>\n",
       "      <th>4</th>\n",
       "      <td>2022-06-06</td>\n",
       "      <td>1200220.53</td>\n",
       "      <td>858330.00</td>\n",
       "      <td>-341890.53</td>\n",
       "      <td>0.00</td>\n",
       "    </tr>\n",
       "    <tr>\n",
       "      <th>...</th>\n",
       "      <td>...</td>\n",
       "      <td>...</td>\n",
       "      <td>...</td>\n",
       "      <td>...</td>\n",
       "      <td>...</td>\n",
       "    </tr>\n",
       "    <tr>\n",
       "      <th>185</th>\n",
       "      <td>2022-12-04</td>\n",
       "      <td>294529.92</td>\n",
       "      <td>1696468.79</td>\n",
       "      <td>1401938.87</td>\n",
       "      <td>1401938.87</td>\n",
       "    </tr>\n",
       "    <tr>\n",
       "      <th>186</th>\n",
       "      <td>2022-12-05</td>\n",
       "      <td>487246.21</td>\n",
       "      <td>1755510.35</td>\n",
       "      <td>1268264.14</td>\n",
       "      <td>1268264.14</td>\n",
       "    </tr>\n",
       "    <tr>\n",
       "      <th>187</th>\n",
       "      <td>2022-12-06</td>\n",
       "      <td>530829.60</td>\n",
       "      <td>1767811.32</td>\n",
       "      <td>1236981.72</td>\n",
       "      <td>1236981.72</td>\n",
       "    </tr>\n",
       "    <tr>\n",
       "      <th>188</th>\n",
       "      <td>2022-12-07</td>\n",
       "      <td>339686.40</td>\n",
       "      <td>1641300.02</td>\n",
       "      <td>1301613.62</td>\n",
       "      <td>1301613.62</td>\n",
       "    </tr>\n",
       "    <tr>\n",
       "      <th>189</th>\n",
       "      <td>2022-12-08</td>\n",
       "      <td>162666.83</td>\n",
       "      <td>1639092.36</td>\n",
       "      <td>1476425.53</td>\n",
       "      <td>1476425.53</td>\n",
       "    </tr>\n",
       "  </tbody>\n",
       "</table>\n",
       "<p>190 rows × 5 columns</p>\n",
       "</div>"
      ],
      "text/plain": [
       "          date    paid_sum    plan_sum         dif    dif_duty\n",
       "0   2022-06-02   557960.00   610900.00    52940.00    52940.00\n",
       "1   2022-06-03   795085.00   652960.00  -142125.00        0.00\n",
       "2   2022-06-04   782820.00   629490.00  -153330.00        0.00\n",
       "3   2022-06-05   844265.00   636820.00  -207445.00        0.00\n",
       "4   2022-06-06  1200220.53   858330.00  -341890.53        0.00\n",
       "..         ...         ...         ...         ...         ...\n",
       "185 2022-12-04   294529.92  1696468.79  1401938.87  1401938.87\n",
       "186 2022-12-05   487246.21  1755510.35  1268264.14  1268264.14\n",
       "187 2022-12-06   530829.60  1767811.32  1236981.72  1236981.72\n",
       "188 2022-12-07   339686.40  1641300.02  1301613.62  1301613.62\n",
       "189 2022-12-08   162666.83  1639092.36  1476425.53  1476425.53\n",
       "\n",
       "[190 rows x 5 columns]"
      ]
     },
     "execution_count": 59,
     "metadata": {},
     "output_type": "execute_result"
    }
   ],
   "source": [
    "# Определение сумм просроченных выплат по дням, при отсутствии просрочек значению суммы присваивается 0.\n",
    "dif_by_day['dif'] = dif_by_day['plan_sum'] - dif_by_day['paid_sum']\n",
    "dif_by_day['dif_duty'] = dif_by_day.apply(lambda x: 0 if x[\"dif\"]<=0 else x['dif'], axis=1)\n",
    "dif_by_day\n"
   ]
  },
  {
   "cell_type": "code",
   "execution_count": 76,
   "metadata": {},
   "outputs": [
    {
     "data": {
      "image/png": "[encoded data removed]",
      "text/plain": [
       "<Figure size 1500x900 with 1 Axes>"
      ]
     },
     "metadata": {},
     "output_type": "display_data"
    }
   ],
   "source": [
    "# Построим график величины просрочки оплаты по дням\n",
    "plt.figure(figsize=(15, 9))\n",
    "plt.ticklabel_format(style='plain', axis='y', useOffset=False)\n",
    "plt.plot(dif_by_day['date'], dif_by_day['dif_duty'])\n",
    "plt.title('График величины просрочки оплаты по дням')\n",
    "plt.xlabel('Дата')\n",
    "plt.ylabel('Величина сумм просрочки')\n",
    "plt.show()\n"
   ]
  },
  {
   "cell_type": "code",
   "execution_count": 69,
   "metadata": {},
   "outputs": [],
   "source": [
    "# Пересчет сумм просрочки через скользящее среднее, чтобы отразить на графике тенденцию просрочки по неделям\n",
    "dif_by_day['dif_roll'] = dif_by_day['dif_duty'].rolling(window=7).mean() "
   ]
  },
  {
   "cell_type": "code",
   "execution_count": 77,
   "metadata": {},
   "outputs": [
    {
     "data": {
      "image/png": "[encoded data removed]",
      "text/plain": [
       "<Figure size 1500x900 with 1 Axes>"
      ]
     },
     "metadata": {},
     "output_type": "display_data"
    }
   ],
   "source": [
    "# Построим график сумм просрочки через скользящее среднее\n",
    "plt.figure(figsize=(15, 9))\n",
    "plt.ticklabel_format(style='plain', axis='y', useOffset=False)\n",
    "plt.plot(dif_by_day['date'], dif_by_day['dif_roll'])\n",
    "plt.title('График величины просрочки оплаты по дням')\n",
    "plt.xlabel('Дата')\n",
    "plt.ylabel('Величина сумм просрочки')\n",
    "plt.show()"
   ]
  },
  {
   "cell_type": "markdown",
   "metadata": {},
   "source": [
    "### По графику делаем вывод, что за рассматриваемый период к концу года наблюдается рост величины просрочки"
   ]
  }
 ],
 "metadata": {
  "kernelspec": {
   "display_name": "Python 3",
   "language": "python",
   "name": "python3"
  },
  "language_info": {
   "codemirror_mode": {
    "name": "ipython",
    "version": 3
   },
   "file_extension": ".py",
   "mimetype": "text/x-python",
   "name": "python",
   "nbconvert_exporter": "python",
   "pygments_lexer": "ipython3",
   "version": "3.13.2"
  }
 },
 "nbformat": 4,
 "nbformat_minor": 2
}
